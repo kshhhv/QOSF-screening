{
 "cells": [
  {
   "cell_type": "code",
   "execution_count": 1,
   "metadata": {},
   "outputs": [],
   "source": [
    "from qiskit import QuantumCircuit\n",
    "from qiskit import Aer\n",
    "from qiskit.visualization import plot_histogram\n",
    "import pennylane as qml\n",
    "import numpy as np\n",
    "import matplotlib.pyplot as plt "
   ]
  },
  {
   "cell_type": "code",
   "execution_count": 8,
   "metadata": {},
   "outputs": [
    {
     "name": "stderr",
     "output_type": "stream",
     "text": [
      "ibmqfactory.load_account:WARNING:2020-09-12 22:00:45,268: Credentials are already in use. The existing account in the session will be replaced.\n"
     ]
    }
   ],
   "source": [
    "from qiskit import *\n",
    "provider = IBMQ.load_account()\n",
    "backend = provider.get_backend('ibmq_vigo')"
   ]
  },
  {
   "cell_type": "code",
   "execution_count": 37,
   "metadata": {},
   "outputs": [
    {
     "name": "stdout",
     "output_type": "stream",
     "text": [
      "Collecting pennylane-qiskit\n",
      "  Using cached PennyLane_qiskit-0.11.0-py3-none-any.whl (21 kB)\n",
      "Requirement already satisfied: numpy in c:\\users\\nikhi\\anaconda3\\lib\\site-packages (from pennylane-qiskit) (1.18.5)\n",
      "Requirement already satisfied: pennylane>=0.11.0 in c:\\users\\nikhi\\anaconda3\\lib\\site-packages (from pennylane-qiskit) (0.11.0)\n",
      "Collecting qiskit>=0.20\n",
      "  Using cached qiskit-0.20.1.tar.gz (3.9 kB)\n",
      "Requirement already satisfied: networkx>=2.2; python_version > \"3.5\" in c:\\users\\nikhi\\anaconda3\\lib\\site-packages (from pennylane-qiskit) (2.4)\n",
      "Collecting pyscf<=1.7.2\n",
      "  Using cached pyscf-1.7.2.tar.gz (7.5 MB)\n",
      "Note: you may need to restart the kernel to use updated packages.\n"
     ]
    },
    {
     "name": "stderr",
     "output_type": "stream",
     "text": [
      "    ERROR: Command errored out with exit status 1:\n",
      "     command: 'C:\\Users\\nikhi\\anaconda3\\python.exe' -c 'import sys, setuptools, tokenize; sys.argv[0] = '\"'\"'C:\\\\Users\\\\nikhi\\\\AppData\\\\Local\\\\Temp\\\\pip-install-42qof97u\\\\pyscf\\\\setup.py'\"'\"'; __file__='\"'\"'C:\\\\Users\\\\nikhi\\\\AppData\\\\Local\\\\Temp\\\\pip-install-42qof97u\\\\pyscf\\\\setup.py'\"'\"';f=getattr(tokenize, '\"'\"'open'\"'\"', open)(__file__);code=f.read().replace('\"'\"'\\r\\n'\"'\"', '\"'\"'\\n'\"'\"');f.close();exec(compile(code, __file__, '\"'\"'exec'\"'\"'))' egg_info --egg-base 'C:\\Users\\nikhi\\AppData\\Local\\Temp\\pip-install-42qof97u\\pyscf\\pip-egg-info'\n",
      "         cwd: C:\\Users\\nikhi\\AppData\\Local\\Temp\\pip-install-42qof97u\\pyscf\\\n",
      "    Complete output (9 lines):\n",
      "    Traceback (most recent call last):\n",
      "      File \"<string>\", line 1, in <module>\n",
      "      File \"C:\\Users\\nikhi\\AppData\\Local\\Temp\\pip-install-42qof97u\\pyscf\\setup.py\", line 207, in <module>\n",
      "        for x in blas_libraries]\n",
      "      File \"C:\\Users\\nikhi\\AppData\\Local\\Temp\\pip-install-42qof97u\\pyscf\\setup.py\", line 207, in <listcomp>\n",
      "        for x in blas_libraries]\n",
      "      File \"C:\\Users\\nikhi\\AppData\\Local\\Temp\\pip-install-42qof97u\\pyscf\\setup.py\", line 148, in search_lib_path\n",
      "        paths = os.environ.get(LD_LIBRARY_PATH, '').split(os.pathsep)\n",
      "    NameError: name 'LD_LIBRARY_PATH' is not defined\n",
      "    ----------------------------------------\n",
      "ERROR: Command errored out with exit status 1: python setup.py egg_info Check the logs for full command output.\n"
     ]
    }
   ],
   "source": [
    "pip install pennylane-qiskit\n"
   ]
  },
  {
   "cell_type": "code",
   "execution_count": 32,
   "metadata": {},
   "outputs": [],
   "source": [
    "from qiskit.providers.aer.noise import NoiseModel\n",
    "#noise_model = NoiseModel.from_backend(backend)\n",
    "\n",
    "#dev = qml.device(\"qiskit.aer\", wires=2, shots=1000, noise_model = noise_model, analytic=False)\n",
    "dev1 = qml.device(\"cirq.mixedsimulator\", wires=2)\n",
    "#dev = qml.device('qiskit.aer', wires=2)\n",
    "\n",
    "from pennylane_cirq import ops as cirq_ops\n",
    "\n",
    "@qml.qnode(dev1)\n",
    "def circuit(params, noise_param = 0.2):\n",
    "    qml.RY(params[0], wires=0)\n",
    "    qml.RY(params[1], wires=1)\n",
    "    qml.CNOT(wires = [0,1])\n",
    "    cirq_ops.Depolarize(noise_param, wires=0)\n",
    "    return qml.probs(wires = [0,1])"
   ]
  },
  {
   "cell_type": "code",
   "execution_count": 33,
   "metadata": {},
   "outputs": [],
   "source": [
    "def cost_fun(params):\n",
    "    prob = circuit(params)\n",
    "    p00, p01, p10, p11 = prob\n",
    "    cost = (p00)**2 + (0.5 - p01)**2 + (0.5 - p10)**2 + (p11)**2\n",
    "    return cost"
   ]
  },
  {
   "cell_type": "code",
   "execution_count": 34,
   "metadata": {},
   "outputs": [
    {
     "name": "stdout",
     "output_type": "stream",
     "text": [
      "[-1.57079628  3.0960014 ]\n",
      "0.017879534851864776\n"
     ]
    }
   ],
   "source": [
    "initial_parameters = np.random.randn(2) #starting with random parameters\n",
    "dev1.shots = 1\n",
    "n_steps = 50\n",
    "\n",
    "#backend = provider.get_backend('qasm_simulator')\n",
    "\n",
    "\n",
    "\n",
    "params = initial_parameters.copy()\n",
    "optimizer = qml.GradientDescentOptimizer(stepsize=0.6) #The Gradient Descent Optimizer\n",
    "costs = []\n",
    "\n",
    "for i in range(n_steps):\n",
    "    costs.append(cost_fun(params))\n",
    "    params = optimizer.step(cost_fun, params)\n",
    "        \n",
    "    costs.append(costs)\n",
    "\n",
    "print(params)\n",
    "print(cost_fun(params))"
   ]
  },
  {
   "cell_type": "code",
   "execution_count": 35,
   "metadata": {},
   "outputs": [],
   "source": [
    "pcosts = []\n",
    "for i in range(len(costs)):\n",
    "    if i%2 == 0:\n",
    "        pcosts.append(costs[i])"
   ]
  },
  {
   "cell_type": "code",
   "execution_count": 36,
   "metadata": {},
   "outputs": [
    {
     "data": {
      "image/png": "[encoded data removed]",
      "text/plain": [
       "<Figure size 432x288 with 1 Axes>"
      ]
     },
     "metadata": {
      "needs_background": "light"
     },
     "output_type": "display_data"
    }
   ],
   "source": [
    "\n",
    "plt.plot(range(n_steps),pcosts)\n",
    "plt.xlabel('iteration count') \n",
    "plt.ylabel('cost') \n",
    "plt.show()"
   ]
  },
  {
   "cell_type": "code",
   "execution_count": null,
   "metadata": {},
   "outputs": [],
   "source": [
    "cost, prob = cost_fun([pi/2,pi/2])"
   ]
  },
  {
   "cell_type": "code",
   "execution_count": null,
   "metadata": {},
   "outputs": [],
   "source": [
    "result = {'00': prob[0], '01': prob[1], '10': prob[2], '11': prob[3]}\n",
    "plot_histogram(result)\n"
   ]
  }
 ],
 "metadata": {
  "kernelspec": {
   "display_name": "Python 3",
   "language": "python",
   "name": "python3"
  },
  "language_info": {
   "codemirror_mode": {
    "name": "ipython",
    "version": 3
   },
   "file_extension": ".py",
   "mimetype": "text/x-python",
   "name": "python",
   "nbconvert_exporter": "python",
   "pygments_lexer": "ipython3",
   "version": "3.7.6"
  }
 },
 "nbformat": 4,
 "nbformat_minor": 4
}
