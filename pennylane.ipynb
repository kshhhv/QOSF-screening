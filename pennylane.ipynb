{
 "cells": [
  {
   "cell_type": "markdown",
   "metadata": {},
   "source": [
    "# Task 2\n",
    "\n",
    "## Problem\n",
    "Implement a circuit that returns |01> and |10> with equal probability.\n",
    "\n",
    "Requirements :\n",
    "- The circuit should consist only of CNOTs, RXs and RYs. \n",
    "- Start from all parameters in parametric gates being equal to 0 or randomly chosen. \n",
    "- You should find the right set of parameters using gradient descent (you can use more advanced optimization methods if you like). \n",
    "- Simulations must be done with sampling - i.e. a limited number of measurements per iteration and noise. \n",
    "\n",
    "Compare the results for different numbers of measurements: 1, 10, 100, 1000. \n",
    "\n",
    "Bonus question:\n",
    "How to make sure you produce state |01> + |10> and not |01> - |10> ?\n"
   ]
  },
  {
   "cell_type": "markdown",
   "metadata": {
    "toc": true
   },
   "source": [
    "<h1>Table of Contents<span class=\"tocSkip\"></span></h1>\n",
    "<div class=\"toc\"><ul class=\"toc-item\"><li><span><a href=\"#Problem\" data-toc-modified-id=\"Problem-1\"><span class=\"toc-item-num\">1&nbsp;&nbsp;</span>Problem</a></span></li><li><span><a href=\"#Basic-task\" data-toc-modified-id=\"Basic-task-2\"><span class=\"toc-item-num\">2&nbsp;&nbsp;</span>Basic task</a></span><ul class=\"toc-item\"><li><span><a href=\"#Wild-Guess!\" data-toc-modified-id=\"Wild-Guess!-2.1\"><span class=\"toc-item-num\">2.1&nbsp;&nbsp;</span>Wild Guess!</a></span></li><li><span><a href=\"#Defining-the-variational-circuit\" data-toc-modified-id=\"Defining-the-variational-circuit-2.2\"><span class=\"toc-item-num\">2.2&nbsp;&nbsp;</span>Defining the variational circuit</a></span></li><li><span><a href=\"#Defining-the-cost-function\" data-toc-modified-id=\"Defining-the-cost-function-2.3\"><span class=\"toc-item-num\">2.3&nbsp;&nbsp;</span>Defining the cost function</a></span></li><li><span><a href=\"#Putting-it-all-together\" data-toc-modified-id=\"Putting-it-all-together-2.4\"><span class=\"toc-item-num\">2.4&nbsp;&nbsp;</span>Putting it all together</a></span></li><li><span><a href=\"#Analysis\" data-toc-modified-id=\"Analysis-2.5\"><span class=\"toc-item-num\">2.5&nbsp;&nbsp;</span>Analysis</a></span></li></ul></li><li><span><a href=\"#Comparing-different-optimizers\" data-toc-modified-id=\"Comparing-different-optimizers-3\"><span class=\"toc-item-num\">3&nbsp;&nbsp;</span>Comparing different optimizers</a></span></li><li><span><a href=\"#Visualizing-cost-function\" data-toc-modified-id=\"Visualizing-cost-function-4\"><span class=\"toc-item-num\">4&nbsp;&nbsp;</span>Visualizing cost function</a></span></li><li><span><a href=\"#Bonus-Question\" data-toc-modified-id=\"Bonus-Question-5\"><span class=\"toc-item-num\">5&nbsp;&nbsp;</span>Bonus Question</a></span><ul class=\"toc-item\"><li><span><a href=\"#Redifining-the-circuit\" data-toc-modified-id=\"Redifining-the-circuit-5.1\"><span class=\"toc-item-num\">5.1&nbsp;&nbsp;</span>Redifining the circuit</a></span></li><li><span><a href=\"#Redifining-the-cost-function\" data-toc-modified-id=\"Redifining-the-cost-function-5.2\"><span class=\"toc-item-num\">5.2&nbsp;&nbsp;</span>Redifining the cost function</a></span></li><li><span><a href=\"#Putting-it-all-together\" data-toc-modified-id=\"Putting-it-all-together-5.3\"><span class=\"toc-item-num\">5.3&nbsp;&nbsp;</span>Putting it all together</a></span></li></ul></li></ul></div>"
   ]
  },
  {
   "cell_type": "code",
   "execution_count": 1,
   "metadata": {},
   "outputs": [],
   "source": [
    "from qiskit import QuantumCircuit, IBMQ\n",
    "from qiskit.circuit import Parameter\n",
    "from qiskit.providers.aer.noise import NoiseModel\n",
    "from qiskit.providers.aer.noise.device import basic_device_noise_model\n",
    "from qiskit import Aer\n",
    "from qiskit.visualization import plot_histogram\n",
    "import pennylane as qml\n",
    "from pennylane import numpy as np\n",
    "import matplotlib.pyplot as plt\n",
    "pi = np.pi"
   ]
  },
  {
   "cell_type": "code",
   "execution_count": 2,
   "metadata": {},
   "outputs": [
    {
     "name": "stderr",
     "output_type": "stream",
     "text": [
      "/home/nikhil/.local/lib/python3.8/site-packages/qiskit/providers/ibmq/ibmqfactory.py:192: UserWarning: Timestamps in IBMQ backend properties, jobs, and job results are all now in local time instead of UTC.\n",
      "  warnings.warn('Timestamps in IBMQ backend properties, jobs, and job results '\n",
      "/home/nikhil/.local/lib/python3.8/site-packages/qiskit/providers/aer/noise/device/basic_device_model.py:111: DeprecationWarning: This function is been deprecated and moved to a method of the`NoiseModel` class. For equivalent functionality use `NoiseModel.from_backend(properties, **kwargs).\n",
      "  warnings.warn(\n"
     ]
    }
   ],
   "source": [
    "#Load the IBM account\n",
    "provider = IBMQ.load_account()\n",
    "ibmq_16_melbourne = provider.get_backend('ibmq_16_melbourne')\n",
    "device_properties = ibmq_16_melbourne.properties()\n",
    "\n",
    "noise_model = basic_device_noise_model(device_properties)"
   ]
  },
  {
   "cell_type": "markdown",
   "metadata": {},
   "source": [
    "## Basic task\n",
    "\n",
    "Let's first make a basic variational circuit template with two qubits and just enough gates to produce $\\vert01\\rangle$ and $\\vert10\\rangle$ with half probability each. Here the proposal is that only two Ry gates on each qubit and a CNOT gate is needed to get to the target state. The circuit of which should look like the one shown below."
   ]
  },
  {
   "cell_type": "code",
   "execution_count": 3,
   "metadata": {},
   "outputs": [
    {
     "data": {
      "text/html": [
       "<pre style=\"word-wrap: normal;white-space: pre;background: #fff0;line-height: 1.1;font-family: &quot;Courier New&quot;,Courier,monospace\">     ┌───────────┐     \n",
       "q_0: ┤ RY(theta) ├──■──\n",
       "     └┬─────────┬┘┌─┴─┐\n",
       "q_1: ─┤ RY(phi) ├─┤ X ├\n",
       "      └─────────┘ └───┘</pre>"
      ],
      "text/plain": [
       "     ┌───────────┐     \n",
       "q_0: ┤ RY(theta) ├──■──\n",
       "     └┬─────────┬┘┌─┴─┐\n",
       "q_1: ─┤ RY(phi) ├─┤ X ├\n",
       "      └─────────┘ └───┘"
      ]
     },
     "execution_count": 3,
     "metadata": {},
     "output_type": "execute_result"
    }
   ],
   "source": [
    "param0 = Parameter('theta')\n",
    "param1 = Parameter('phi')\n",
    "\n",
    "qc = QuantumCircuit(2)\n",
    "qc.ry(param0, 0)\n",
    "qc.ry(param1, 1)\n",
    "qc.cx(0,1)\n",
    "qc.draw()"
   ]
  },
  {
   "cell_type": "markdown",
   "metadata": {},
   "source": [
    "### Wild Guess!\n",
    "\n",
    "Now its shown below that the above proposal is not just a wild guess by showing the maths happening behind the circuit and thus proving that the above circuit should be able to solve the problem.\n",
    "\n",
    "Lets see how the RY gate operation looks like on the first qubit $\\vert0\\rangle$ (initial state).\n",
    "\n",
    "$$ RY_{\\theta}\\vert0\\rangle = \\begin{bmatrix} cos(\\theta/2) & -sin(\\theta/2) \\\\ sin(\\theta/2) & cos(\\theta/2)\\end{bmatrix}\\begin{bmatrix} 1 \\\\ 0 \\end{bmatrix} = \\begin{bmatrix} cos(\\theta/2) \\\\ sin(\\theta/2) \\end{bmatrix}$$\n",
    "\n",
    "Similarly for the second state we get,\n",
    "\n",
    "$$ RY_{\\phi}\\vert0\\rangle = \\begin{bmatrix} cos(\\phi/2) & -sin(\\phi/2) \\\\ sin(\\phi/2) & cos(\\phi/2)\\end{bmatrix}\\begin{bmatrix} 1 \\\\ 0 \\end{bmatrix} = \\begin{bmatrix} cos(\\phi/2) \\\\ sin(\\phi/2) \\end{bmatrix}$$\n",
    "\n",
    "To write the state of a composite system, tensor product of the individual states are taken which can be written as,\n",
    "\n",
    "$$ RY_{\\theta}\\vert0\\rangle \\otimes RY_{\\phi}\\vert0\\rangle = \\begin{bmatrix} cos(\\theta/2) \\\\ sin(\\theta/2) \\end{bmatrix} \\otimes \\begin{bmatrix} cos(\\phi/2) \\\\ sin(\\phi/2) \\end{bmatrix} = \\begin{bmatrix}  cos(\\theta/2)cos(\\phi/2) \\\\ cos(\\theta/2)sin(\\phi/2) \\\\sin(\\theta/2)cos(\\phi/2) \\\\ sin(\\theta/2)sin(\\phi/2) \\end{bmatrix}$$\n",
    "\n",
    "Now if we apply the CNOT gate with the first qubit as control and second as target, we are done.\n",
    "\n",
    "$$ CNOT(RY_{\\theta}\\vert0\\rangle \\otimes RY_{\\phi}\\vert0\\rangle) = \\begin{bmatrix} 1 & 0 & 0 & 0 \\\\ 0 & 1 & 0 & 0 \\\\0 & 0 & 0 & 1 \\\\0 & 0 & 1 & 0 \\end{bmatrix}\\begin{bmatrix}  cos(\\theta/2)cos(\\phi/2) \\\\ cos(\\theta/2)sin(\\phi/2) \\\\sin(\\theta/2)cos(\\phi/2) \\\\ sin(\\theta/2)sin(\\phi/2) \\end{bmatrix} = \\begin{bmatrix}  cos(\\theta/2)cos(\\phi/2) \\\\ cos(\\theta/2)sin(\\phi/2) \\\\ sin(\\theta/2)sin(\\phi/2) \\\\sin(\\theta/2)cos(\\phi/2) \\end{bmatrix}$$ \n",
    "\n",
    "If we check what the final state actually is by putting the value $\\theta = \\pi/2$ and $\\phi = \\pi$, the state simplifies to,\n",
    "\n",
    "$$\\begin{bmatrix}  0 \\\\ \\frac{1}{\\sqrt2} \\\\ \\frac{1}{\\sqrt2} \\\\ 0 \\end{bmatrix} = \\frac{1}{\\sqrt2}\\begin{bmatrix}  0 \\\\ 1 \\\\ 0 \\\\ 0 \\end{bmatrix} + \\frac{1}{\\sqrt2} \\begin{bmatrix}  0 \\\\ 0 \\\\ 1 \\\\ 0 \\end{bmatrix} = \\frac{1}{\\sqrt2}\\vert01\\rangle + \\frac{1}{\\sqrt2}\\vert10\\rangle $$\n",
    "\n",
    "And by squaring the coefficients, its clear that we got what we were looking for. By this calculation, its proved that only two RY and one CNOT gate is enough for our problem. It's also seen that if our optimization works perfectly the value of $\\theta$ and $\\phi$ should converge to $\\pi/2$ and $\\pi$ respectively.\n",
    "\n"
   ]
  },
  {
   "cell_type": "markdown",
   "metadata": {},
   "source": [
    "### Defining the variational circuit\n",
    "The above circuit is imported from qiskit to pennylane and measurements are added to the circuit."
   ]
  },
  {
   "cell_type": "code",
   "execution_count": 20,
   "metadata": {},
   "outputs": [],
   "source": [
    "#device with noise model from ibmq_16_melbourne\n",
    "dev1 = qml.device(\"qiskit.aer\", wires=2, noise_model = noise_model, shots=1024, analytic=False)\n",
    "\n",
    "param0 = Parameter('theta')\n",
    "param1 = Parameter('phi')\n",
    "\n",
    "qc = QuantumCircuit(2)\n",
    "qc.ry(param0, 0)\n",
    "qc.ry(param1, 1)\n",
    "qc.cx(0,1)\n",
    "qc = qml.from_qiskit(qc)\n",
    "\n",
    "@qml.qnode(dev1)\n",
    "def circuit(x):\n",
    "    qc({param0 : x[0], param1: x[1]})\n",
    "    return qml.probs(wires = [0,1])"
   ]
  },
  {
   "cell_type": "markdown",
   "metadata": {},
   "source": [
    "### Defining the cost function\n",
    "\n",
    "The outcome of our measurement is going to be the probability of the possible two qubits states, namely $\\vert00\\rangle$, $\\vert01\\rangle$, $\\vert01\\rangle$, $\\vert01\\rangle$. Among these we want the probability of $\\vert01\\rangle$ and $\\vert01\\rangle$ half each. So we define the cost function as,\n",
    "\n",
    "$$J = (P_{00})^2 + (0.5 - P_{01})^2 + (0.5 - P_{10})^2 + (P_{11})^2$$\n",
    "\n",
    "Here when P$_{01}^2$ and P$_{00}^2$ is 0.5 each, the cost function is minimum, zero. And so our problem reduces to finding a variational parameters for which cost of the circuit is lowest."
   ]
  },
  {
   "cell_type": "code",
   "execution_count": 21,
   "metadata": {},
   "outputs": [],
   "source": [
    "def cost_fun(params):\n",
    "    prob = circuit(params)\n",
    "    p00, p01, p10, p11 = prob\n",
    "    cost = (p00)**2 + (0.5 - p01)**2 + (0.5 - p10)**2 + (p11)**2\n",
    "    return cost"
   ]
  },
  {
   "cell_type": "markdown",
   "metadata": {},
   "source": [
    "### Putting it all together\n",
    "\n",
    "Once variational circuit and cost function is defined, the final thing to do is optimization of the variational parameters. Here the gradient descent optimizer from pennylane is used for the same. "
   ]
  },
  {
   "cell_type": "code",
   "execution_count": 22,
   "metadata": {},
   "outputs": [],
   "source": [
    "def circuit_opt(shot, iteration, opt):\n",
    "    #randomly initialized initial parameters\n",
    "    print(shot, 'measurements per iteration:')\n",
    "    params = [0,0]\n",
    "    dev1.shots = shot\n",
    "    optimizer = opt\n",
    "    costs = []\n",
    "    for i in range(iteration):\n",
    "        cost = cost_fun(params)\n",
    "        params = optimizer.step(cost_fun, params)\n",
    "        costs.append(cost)\n",
    "    print(\"The optimal parameter is \", params)\n",
    "    print(\"The final cost is \", costs[-1])\n",
    "    print()\n",
    "    return params, costs"
   ]
  },
  {
   "cell_type": "code",
   "execution_count": 8,
   "metadata": {},
   "outputs": [
    {
     "name": "stdout",
     "output_type": "stream",
     "text": [
      "1 measurements per iteration:\n",
      "The optimal parameter is  [2.0, 3.1]\n",
      "The final cost is  0.5\n",
      "\n",
      "10 measurements per iteration:\n",
      "The optimal parameter is  [-1.3840000000000006, -2.8439999999999976]\n",
      "The final cost is  0.060000000000000005\n",
      "\n",
      "100 measurements per iteration:\n",
      "The optimal parameter is  [-1.6026200000000008, 2.791980000000001]\n",
      "The final cost is  0.028600000000000007\n",
      "\n",
      "1000 measurements per iteration:\n",
      "The optimal parameter is  [-1.5856675999999996, 2.7337756000000017]\n",
      "The final cost is  0.011889999999999998\n",
      "\n"
     ]
    }
   ],
   "source": [
    "#Lets call the above function with a list of measurements to be taken per iteration and iterations per optimization\n",
    "shots = [1,10,100,1000]\n",
    "iteration = 75\n",
    "#Using pennylane gradient descent optimizer\n",
    "opt = qml.GradientDescentOptimizer(stepsize=0.2)\n",
    "#Store the lists of cost convergence for each number of shots\n",
    "cost_shot = []\n",
    "#Store the final parameters value after the optimization\n",
    "final_params = []\n",
    "\n",
    "for shot in shots:\n",
    "    final_param, costs = circuit_opt(shot, iteration, opt)\n",
    "    final_params.append(final_param)\n",
    "    cost_shot.append(costs)    \n",
    "    "
   ]
  },
  {
   "cell_type": "markdown",
   "metadata": {},
   "source": [
    "### Analysis\n",
    "The circuit has been executed and variational parameters should have converged to the value which would give lowest cost and thus equal probability of getting $\\vert01\\rangle$ and $\\vert10\\rangle$.\n",
    "\n",
    "Let's first see how the cost function has varied with number of iterations for different numbers of measurements."
   ]
  },
  {
   "cell_type": "code",
   "execution_count": 9,
   "metadata": {},
   "outputs": [
    {
     "data": {
      "image/png": "[encoded data removed]",
      "text/plain": [
       "<Figure size 432x288 with 1 Axes>"
      ]
     },
     "metadata": {
      "needs_background": "light"
     },
     "output_type": "display_data"
    }
   ],
   "source": [
    "labels = [str(x) for x in shots]\n",
    "for i in range(len(shots)):\n",
    "    plt.plot(range(iteration),cost_shot[i], label = labels[i])\n",
    "plt.xlabel('iteration count') \n",
    "plt.ylabel('cost') \n",
    "plt.grid(which = 'both', axis = 'y')\n",
    "plt.legend()\n",
    "plt.show()"
   ]
  },
  {
   "cell_type": "markdown",
   "metadata": {},
   "source": [
    "It's seen that the rate of convergence does not have a  very strong relation with the number of measurements being done per iteration in the above case. The convergence with 1000 measurements was slowest to decrease initially, though it was more uniform than the lower mesurements. Do note that with single measurements being done the cost has only two level: '1.5' and '0.5'. It can be explained by the fact that if a single measurement is done, the outcome being $\\vert01\\rangle$ or $\\vert10\\rangle$ the other 3 probabilities is directly zero and so the cost function is 0.5 or in the other case it is 1.5.\n",
    "\n",
    "At the end of optimization for each measurement rounds the values of variational parameters when fed in the variational circuit should give us equal probability for $\\vert01\\rangle$ or $\\vert10\\rangle$. Lets check the same by plotting histograms. Here 1024 measurements is being done for better comparison, as the optimization is already done with varying measurments."
   ]
  },
  {
   "cell_type": "code",
   "execution_count": 23,
   "metadata": {},
   "outputs": [
    {
     "ename": "TypeError",
     "evalue": "object of type 'int' has no len()",
     "output_type": "error",
     "traceback": [
      "\u001b[0;31m---------------------------------------------------------------------------\u001b[0m",
      "\u001b[0;31mTypeError\u001b[0m                                 Traceback (most recent call last)",
      "\u001b[0;32m<ipython-input-23-bc169e3e93e1>\u001b[0m in \u001b[0;36m<module>\u001b[0;34m\u001b[0m\n\u001b[1;32m      5\u001b[0m \u001b[0;34m\u001b[0m\u001b[0m\n\u001b[1;32m      6\u001b[0m \u001b[0mimages\u001b[0m \u001b[0;34m=\u001b[0m \u001b[0;34m[\u001b[0m\u001b[0;34m]\u001b[0m\u001b[0;34m\u001b[0m\u001b[0;34m\u001b[0m\u001b[0m\n\u001b[0;32m----> 7\u001b[0;31m \u001b[0;32mfor\u001b[0m \u001b[0mi\u001b[0m \u001b[0;32min\u001b[0m \u001b[0mrange\u001b[0m\u001b[0;34m(\u001b[0m\u001b[0mlen\u001b[0m\u001b[0;34m(\u001b[0m\u001b[0mshots\u001b[0m\u001b[0;34m)\u001b[0m\u001b[0;34m)\u001b[0m\u001b[0;34m:\u001b[0m\u001b[0;34m\u001b[0m\u001b[0;34m\u001b[0m\u001b[0m\n\u001b[0m\u001b[1;32m      8\u001b[0m     \u001b[0mimages\u001b[0m\u001b[0;34m.\u001b[0m\u001b[0mappend\u001b[0m\u001b[0;34m(\u001b[0m\u001b[0mplot_graph\u001b[0m\u001b[0;34m(\u001b[0m\u001b[0mfinal_params\u001b[0m\u001b[0;34m[\u001b[0m\u001b[0mi\u001b[0m\u001b[0;34m]\u001b[0m\u001b[0;34m)\u001b[0m\u001b[0;34m)\u001b[0m\u001b[0;34m\u001b[0m\u001b[0;34m\u001b[0m\u001b[0m\n\u001b[1;32m      9\u001b[0m     \u001b[0mprint\u001b[0m\u001b[0;34m(\u001b[0m\u001b[0mshots\u001b[0m\u001b[0;34m[\u001b[0m\u001b[0mi\u001b[0m\u001b[0;34m]\u001b[0m\u001b[0;34m,\u001b[0m \u001b[0;34m\"measurements per iteration used for circuit optimization:\"\u001b[0m\u001b[0;34m)\u001b[0m\u001b[0;34m\u001b[0m\u001b[0;34m\u001b[0m\u001b[0m\n",
      "\u001b[0;31mTypeError\u001b[0m: object of type 'int' has no len()"
     ]
    }
   ],
   "source": [
    "def plot_graph(params):\n",
    "    prob = circuit(params)\n",
    "    result = {'00': prob[0], '01': prob[1], '10': prob[2], '11': prob[3] }\n",
    "    return plot_histogram(result, figsize=(6, 4))\n",
    "\n",
    "images = []\n",
    "for i in range(len(shots)):\n",
    "    images.append(plot_graph(final_params[i]))\n",
    "    print(shots[i], \"measurements per iteration used for circuit optimization:\")\n",
    "    display(images[i])\n"
   ]
  },
  {
   "cell_type": "markdown",
   "metadata": {},
   "source": [
    "## Comparing different optimizers\n",
    "\n",
    "The optimization done above was using basic gradient descent. There are many more advanced optimization algorithm that can make our variational parameters converge faster. Lets now compare the convergence of some different optimizers for this the number of shots per measurements will be kept fixed.\n",
    "\n",
    "1. Gradient descent optimizer\n",
    "2. Momentum gradient descent optimizer\n",
    "3. Adaptive gradient descent optimizer"
   ]
  },
  {
   "cell_type": "code",
   "execution_count": 24,
   "metadata": {},
   "outputs": [
    {
     "name": "stdout",
     "output_type": "stream",
     "text": [
      "Basic GD optimizer\n",
      "100 measurements per iteration:\n",
      "The optimal parameter is  [-1.51372, -2.51996]\n",
      "The final cost is  0.029800000000000007\n",
      "\n",
      "Momentum GD optimizer\n",
      "100 measurements per iteration:\n",
      "The optimal parameter is  [1.6018278726825639, 3.2496963053062387]\n",
      "The final cost is  0.010000000000000002\n",
      "\n",
      "Adagrad optimizer\n",
      "100 measurements per iteration:\n",
      "The optimal parameter is  [-1.5838589315997598, -2.2964613743801885]\n",
      "The final cost is  0.065\n",
      "\n"
     ]
    }
   ],
   "source": [
    "#Lets call the above function with a list of measurements to be taken per iteration and iterations per optimization\n",
    "shots = 100\n",
    "iteration = 50\n",
    "#Store the lists of cost convergence for each number of shots\n",
    "cost_opt = []\n",
    "#Store the final parameters value after the optimization\n",
    "final_opt = []\n",
    "optimizers = []\n",
    "\n",
    "optimizers.append(qml.GradientDescentOptimizer(stepsize=0.2))\n",
    "optimizers.append(qml.MomentumOptimizer(stepsize=0.2, momentum = 0.8))\n",
    "optimizers.append(qml.AdagradOptimizer(stepsize=0.2, eps=1e-08))\n",
    "\n",
    "labels = [\"Basic GD\", \"Momentum GD\", \"Adagrad\"]\n",
    "\n",
    "for i in range(len(optimizers)):\n",
    "    print(labels[i], \"optimizer\")\n",
    "    final_param, costs = circuit_opt(shots, iteration,optimizers[i])\n",
    "    final_opt.append(final_param)\n",
    "    cost_opt.append(costs)\n"
   ]
  },
  {
   "cell_type": "code",
   "execution_count": null,
   "metadata": {},
   "outputs": [],
   "source": [
    "for i in range(len(labels)):\n",
    "    plt.plot(range(iteration),cost_opt[i], label = labels[i])\n",
    "plt.xlabel('iteration count') \n",
    "plt.ylabel('cost') \n",
    "plt.grid(axis = 'y')\n",
    "plt.legend()\n",
    "plt.show()"
   ]
  },
  {
   "cell_type": "markdown",
   "metadata": {},
   "source": [
    "## Visualizing cost function\n",
    "\n",
    "Let's go back to the final state vector we derived previously and see how many solution does it have. \n",
    "\n",
    "$$\\begin{bmatrix}  cos(\\theta/2)cos(\\phi/2) \\\\ cos(\\theta/2)sin(\\phi/2) \\\\ sin(\\theta/2)sin(\\phi/2) \\\\sin(\\theta/2)cos(\\phi/2) \\end{bmatrix} = cos(\\theta/2)cos(\\phi/2)\\vert00\\rangle + cos(\\theta/2)sin(\\phi/2)\\vert01\\rangle + sin(\\theta/2)sin(\\phi/2)\\vert10\\rangle + sin(\\theta/2)cos(\\phi/2)\\vert11\\rangle$$\n",
    "\n",
    "And the way cost function is defined, the theoretical definition of cost function can be written as,\n",
    "$$J(\\theta, \\phi) = \\{(cos(\\theta/2)cos(\\phi/2))^2\\}^2 + \\{0.5 - (cos(\\theta/2)sin(\\phi/2))^2\\}^2 + \\{0.5 - (sin(\\theta/2)sin(\\phi/2))^2\\}^2 + \\{(sin(\\theta/2)cos(\\phi/2))^2\\}^2$$\n",
    "\n",
    "It was required to make the coefficients of $\\vert00\\rangle$ and $\\vert11\\rangle$ to be 0 so that there is no probability for those states to appear in final measurement, and accordingly it was required for the coefficient of $\\vert01\\rangle$ and $\\vert10\\rangle$ to be equal to $\\frac{1}{2}$ when squared individually.\n",
    "\n",
    "To make the first coefficient zero, either of $cos(\\theta/2$) or $cos(\\phi/2$) needs to be zero and the former being zero would also make the coefficient of $\\vert01\\rangle$ zero, which is not what is required. So, cos($\\phi/2$) = 0 which gives $\\phi = \\pi$ or $-\\pi$. This would also make the coefficients of $\\vert11\\rangle$ zero.\n",
    "\n",
    "The coefficients of $\\vert01\\rangle$ and $\\vert10\\rangle$ needs to be made $\\frac{1}{\\sqrt2}$ so that their square gives $\\frac{1}{2}$. $\\phi$ = $\\pi$ or $-\\pi$ gives sin($\\phi/2$) = 1. And so the value of $cos^2(\\theta/2)$ should be $\\frac{1}{2}$. Which on solving gives $\\theta = \\pi/2$ or $-\\pi/2$.\n",
    "\n",
    "So to conclude the possible solutions of the cost function are: $[(\\pi/2, \\pi), (-\\pi/2, \\pi), (\\pi/2, -\\pi), (-\\pi/2, -\\pi)]$. Let's try to visualize this by plotting the surface of cost function."
   ]
  },
  {
   "cell_type": "code",
   "execution_count": null,
   "metadata": {},
   "outputs": [],
   "source": [
    "def cost_theory(theta,phi):\n",
    "    p00 = (np.cos(theta/2)*np.cos(phi/2))**2\n",
    "    p01 = (np.cos(theta/2)*np.sin(phi/2))**2\n",
    "    p10 = (np.sin(theta/2)*np.sin(phi/2))**2\n",
    "    p11 = (np.sin(theta/2)*np.cos(phi/2))**2\n",
    "    cost = (p00)**2 + (0.5 - p01)**2 + (0.5 - p10)**2 + (p11)**2\n",
    "    return cost\n",
    "\n",
    "x = np.arange(-4,4,0.1)\n",
    "y = np.arange(-4,4,0.1)\n",
    "X,Y = np.meshgrid(x,y)\n",
    "Z = cost_theory(X,Y)"
   ]
  },
  {
   "cell_type": "code",
   "execution_count": null,
   "metadata": {},
   "outputs": [],
   "source": [
    "%matplotlib notebook\n",
    "ax = plt.axes(projection='3d')\n",
    "ax.plot_surface(X, Y, Z, rstride=1, cstride=1,\n",
    "                cmap='viridis', edgecolor='none')\n",
    "ax.set_title('surface');"
   ]
  },
  {
   "cell_type": "markdown",
   "metadata": {},
   "source": [
    "Of the four minima in the above surface, two $[(\\pi/2, \\pi)$ and $(\\pi/2, -\\pi)]$ corresponds to $\\frac{1}{\\sqrt2}(\\vert01\\rangle + \\vert10\\rangle)$ and the other two $[(-\\pi/2, \\pi)$ and $(-\\pi/2, -\\pi)]$ corresponds to the $\\frac{1}{\\sqrt2}(\\vert01\\rangle - \\vert10\\rangle)$. This takes us to the bonus question of the task. "
   ]
  },
  {
   "cell_type": "markdown",
   "metadata": {},
   "source": [
    "##  Bonus Question\n",
    "\n",
    "The general state capable of giving half probability of $\\vert01\\rangle$ and $\\vert10\\rangle$ each is,\n",
    "\n",
    "$$\\vert\\Psi\\rangle = \\frac{1}{\\sqrt2}\\vert01\\rangle + \\frac{1}{\\sqrt2}e^{i\\alpha}\\vert10\\rangle$$\n",
    "\n",
    "Since the solution provided above did not used any Rx rotation it was seen in the final state that none of the coefficients had imaginary part. Thus the above equation reduced to,\n",
    "\n",
    "$$\\vert\\Psi\\rangle = \\frac{1}{\\sqrt2}\\vert01\\rangle \\pm \\frac{1}{\\sqrt2}\\vert10\\rangle$$\n",
    "\n",
    "These two states can be distinguished easily by doing a bell basis measurement which is applying the CNOT gate that takes the first qubit to $\\vert1\\rangle$ with certainity, followed by a hadamard that takes superposition of first qubit to computational basis and then final measurement. Since the task restricts to use only Rx and Ry gates, an appropiate angle for such rotation might also do the job.\n",
    "\n",
    "The hadamard gate maps $\\frac{1}{\\sqrt2}(\\vert0\\rangle+\\vert1\\rangle) \\rightarrow \\vert0\\rangle$ and $\\frac{1}{\\sqrt2}(\\vert0\\rangle-\\vert1\\rangle) \\rightarrow \\vert1\\rangle$ if instead of hadamard Ry rotation by $\\pi/2$ is used it would map $\\frac{1}{\\sqrt2}(\\vert0\\rangle+\\vert1\\rangle) \\rightarrow \\vert1\\rangle$ and $\\frac{1}{\\sqrt2}(\\vert0\\rangle-\\vert1\\rangle) \\rightarrow \\vert0\\rangle$. Though they are different, they can be used interchangeably to distinguish the two states. \n",
    "\n",
    "To conclude, if after the variational circuit a CNOT gate with second qubit as target and Ry gate on first qubit with $\\pi/2$ rotation is added the states prepared in $\\frac{1}{\\sqrt2}\\vert01\\rangle + \\frac{1}{\\sqrt2}\\vert10\\rangle$ would give $\\vert11\\rangle$ with full probability and the one prepared in $\\frac{1}{\\sqrt2}\\vert01\\rangle - \\frac{1}{\\sqrt2}\\vert10\\rangle$ would give $\\vert01\\rangle$ with full proability."
   ]
  },
  {
   "cell_type": "markdown",
   "metadata": {},
   "source": [
    "### Redifining the circuit\n",
    "\n",
    "As proposed above, the variational part of the circuit will now be followed by the CNOT gate and a $\\pi/2$ Ry rotation. This part will kind of mimic the bell state measurement and will ensure that the optimized parameters in variational parts produce the target state. Note that this circuit itself does not produce the state, and its only role is to give us the parameters."
   ]
  },
  {
   "cell_type": "code",
   "execution_count": null,
   "metadata": {},
   "outputs": [],
   "source": [
    "param0 = Parameter('theta')\n",
    "param1 = Parameter('phi')\n",
    "\n",
    "qcb = QuantumCircuit(2)\n",
    "qcb.ry(param0, 0)\n",
    "qcb.ry(param1, 1)\n",
    "qcb.cx(0,1)\n",
    "qcb.barrier()\n",
    "qcb.cx(0,1)\n",
    "qcb.ry(pi/2, 0)\n",
    "qcb.draw()"
   ]
  },
  {
   "cell_type": "markdown",
   "metadata": {},
   "source": [
    "The above circuit will now be imported to pennylane with noise model."
   ]
  },
  {
   "cell_type": "code",
   "execution_count": null,
   "metadata": {},
   "outputs": [],
   "source": [
    "#device with noise model from ibmq_16_melbourne\n",
    "dev1 = qml.device(\"qiskit.aer\", wires=2, noise_model = noise_model, shots=1024, analytic=False)\n",
    "\n",
    "qcb = qml.from_qiskit(qcb)\n",
    "\n",
    "@qml.qnode(dev1)\n",
    "def circuit_bonus(x):\n",
    "    qcb({param0 : x[0], param1: x[1]})\n",
    "    return qml.probs(wires = [0,1])"
   ]
  },
  {
   "cell_type": "markdown",
   "metadata": {},
   "source": [
    "### Redifining the cost function\n",
    "\n",
    "The above circuit would give $\\vert11\\rangle$ with full probability when the parameters are optimized to give the variational part $\\frac{1}{\\sqrt2}(\\vert01\\rangle + \\vert10\\rangle)$. And so the cost function needs to be redifined to give low output for the same. The cost function would now be defined as,\n",
    "\n",
    "$$J = (P_{00})^2 + (0.5 - P_{01})^2 + (0.5 - P_{10})^2 + (P_{11})^2$$\n"
   ]
  },
  {
   "cell_type": "code",
   "execution_count": null,
   "metadata": {},
   "outputs": [],
   "source": [
    "def cost_fun_bonus(params):\n",
    "    prob = circuit_bonus(params)\n",
    "    p00, p01, p10, p11 = prob\n",
    "    cost = (p00)**2 + (p01)**2 + (p10)**2 + (1 - p11)**2\n",
    "    return cost"
   ]
  },
  {
   "cell_type": "markdown",
   "metadata": {},
   "source": [
    "### Putting it all together\n",
    "The above variational circuit and cost function is now put together with the pennylane gradient descent optimizer."
   ]
  },
  {
   "cell_type": "code",
   "execution_count": null,
   "metadata": {},
   "outputs": [],
   "source": [
    "def circuit_opt_bonus(shots, iteration, opt):\n",
    "    #randomly initialized initial parameters\n",
    "    params = np.random.randn(2)\n",
    "    dev1.shots = shot\n",
    "    optimizer = opt\n",
    "    costs = []\n",
    "    for i in range(iteration):\n",
    "        cost = cost_fun_bonus(params)\n",
    "        params = optimizer.step(cost_fun_bonus, params)\n",
    "        costs.append(cost)\n",
    "    print(params)\n",
    "    return params, costs"
   ]
  },
  {
   "cell_type": "markdown",
   "metadata": {},
   "source": [
    "The optimization is done again for different number of shots per iteration and final parameters are noted."
   ]
  },
  {
   "cell_type": "code",
   "execution_count": null,
   "metadata": {},
   "outputs": [],
   "source": [
    "#Lets call the above function with a list of measurements to be taken per iteration and iterations per optimization\n",
    "shots = [10,100,1000]\n",
    "iteration = 75\n",
    "#Using pennylane gradient descent optimizer\n",
    "opt = qml.GradientDescentOptimizer(stepsize=0.2)\n",
    "#Store the lists of cost convergence for each number of shots\n",
    "cost_shot = []\n",
    "#Store the final parameters value after the optimization\n",
    "final_params = []\n",
    "\n",
    "for shot in shots:\n",
    "    final_param, costs = circuit_opt_bonus(shot, iteration, opt)\n",
    "    final_params.append(final_param)\n",
    "    cost_shot.append(costs)    "
   ]
  },
  {
   "cell_type": "code",
   "execution_count": null,
   "metadata": {},
   "outputs": [],
   "source": [
    "labels = [str(x) for x in shots]\n",
    "for i in range(len(shots)):\n",
    "    plt.plot(range(iteration),cost_shot[i], label = labels[i])\n",
    "plt.xlabel('iteration count') \n",
    "plt.ylabel('cost') \n",
    "plt.grid(which = 'both', axis = 'y')\n",
    "plt.legend()\n",
    "plt.show()"
   ]
  },
  {
   "cell_type": "code",
   "execution_count": null,
   "metadata": {},
   "outputs": [],
   "source": [
    "def plot_graph(params):\n",
    "    prob = circuit(params)\n",
    "    result = {'00': prob[0], '01': prob[1], '10': prob[2], '11': prob[3] }\n",
    "    return plot_histogram(result, figsize=(6, 4))\n",
    "\n",
    "images = []\n",
    "for i in range(len(shots)):\n",
    "    images.append(plot_graph(final_params[i]))\n",
    "    print(shots[i], \"measurements per iteration used for circuit optimization:\")\n",
    "    display(images[i])\n"
   ]
  }
 ],
 "metadata": {
  "kernelspec": {
   "display_name": "Python 3",
   "language": "python",
   "name": "python3"
  },
  "language_info": {
   "codemirror_mode": {
    "name": "ipython",
    "version": 3
   },
   "file_extension": ".py",
   "mimetype": "text/x-python",
   "name": "python",
   "nbconvert_exporter": "python",
   "pygments_lexer": "ipython3",
   "version": "3.8.3"
  },
  "toc": {
   "base_numbering": "1",
   "nav_menu": {},
   "number_sections": true,
   "sideBar": false,
   "skip_h1_title": true,
   "title_cell": "Table of Contents",
   "title_sidebar": "Contents",
   "toc_cell": true,
   "toc_position": {},
   "toc_section_display": false,
   "toc_window_display": false
  }
 },
 "nbformat": 4,
 "nbformat_minor": 4
}
