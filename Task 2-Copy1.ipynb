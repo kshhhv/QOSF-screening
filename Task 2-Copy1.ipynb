{
 "cells": [
  {
   "cell_type": "markdown",
   "metadata": {},
   "source": [
    "# Task 2\n",
    "\n",
    "Implement a circuit that returns |01> and |10> with equal probability.\n",
    "\n",
    "Requirements :\n",
    "- The circuit should consist only of CNOTs, RXs and RYs. \n",
    "- Start from all parameters in parametric gates being equal to 0 or randomly chosen. \n",
    "- You should find the right set of parameters using gradient descent (you can use more advanced optimization methods if you like). \n",
    "- Simulations must be done with sampling - i.e. a limited number of measurements per iteration and noise. \n",
    "\n",
    "Compare the results for different numbers of measurements: 1, 10, 100, 1000. \n",
    "\n",
    "Bonus question:\n",
    "How to make sure you produce state |01> + |10> and not |01> - |10> ?\n"
   ]
  },
  {
   "cell_type": "code",
   "execution_count": null,
   "metadata": {},
   "outputs": [],
   "source": [
    "from qiskit import QuantumCircuit, Aer, execute\n",
    "from qiskit.providers.aer.noise import NoiseModel\n",
    "from qiskit.visualization import plot_histogram\n",
    "import matplotlib.pyplot as plt \n",
    "import numpy as np"
   ]
  },
  {
   "cell_type": "code",
   "execution_count": null,
   "metadata": {},
   "outputs": [],
   "source": [
    "def param_qc(params):\n",
    "    qc = QuantumCircuit(2,2)\n",
    "    qc.ry(params[0], 0)\n",
    "    qc.ry(params[1], 1)\n",
    "    qc.cx(0,1)\n",
    "    qc.measure(range(2), range(2))\n",
    "    return qc"
   ]
  },
  {
   "cell_type": "code",
   "execution_count": null,
   "metadata": {},
   "outputs": [],
   "source": [
    "def cost_function(circuit, shots):\n",
    "    \n",
    "    p00, p01, p10, p11 = 0,0,0,0\n",
    "    \n",
    "    simulator = Aer.get_backend('qasm_simulator')\n",
    "    counts = execute(circuit, backend=simulator, noise_model=noise_model, shots=shots).result().get_counts(circuit)\n",
    "    \n",
    "    if '00' in counts.keys():\n",
    "        p00 = counts['00']/shots\n",
    "    if '01' in counts.keys():\n",
    "        p01 = counts['01']/shots\n",
    "    if '10' in counts.keys():\n",
    "        p10 = counts['10']/shots\n",
    "    if '11' in counts.keys():\n",
    "        p11 = counts['11']/shots\n",
    "\n",
    "    cost = (0.5 - p01)**2 + (0.5 - p10)**2 \n",
    "    \n",
    "    return cost\n",
    "\n",
    "#(0 - counts['00'])^2 + (0 - counts['11'])^2\n"
   ]
  },
  {
   "cell_type": "code",
   "execution_count": null,
   "metadata": {},
   "outputs": [],
   "source": [
    "def opt(shots, params):\n",
    "    \n",
    "        \n",
    "    return cost_0, del_cost"
   ]
  },
  {
   "cell_type": "code",
   "execution_count": null,
   "metadata": {},
   "outputs": [],
   "source": [
    "pi = np.pi\n",
    "noise_model = NoiseModel()\n",
    "\n",
    "params = [0,0]\n",
    "shots = 1000\n",
    "costs_x = []\n",
    "costs_y = []\n",
    "iteration = 500\n",
    "step = 0.004\n",
    "\n",
    "for i in range(iteration):\n",
    "    \n",
    "    circuit = param_qc(params)\n",
    "    cost_0 = cost_function(circuit, shots)\n",
    "    \n",
    "    \n",
    "    \n",
    "    cost, grad = opt(shots, params, 0.01, 0)\n",
    "    costs_x.append(cost)\n",
    "    \n",
    "    #params = [params[0] - grad*step, params[1] - grad*step]\n",
    "    \n",
    "    if grad <= 0:\n",
    "        params = [params[0] + 0.01, params[1]]\n",
    "    else:\n",
    "        params = [params[0] - 0.01, params[1]]\n",
    "        \n",
    "param_x = params[0]\n",
    "print(param_x)\n",
    "\n",
    "params = [0,0]\n",
    "\n",
    "for i in range(iteration):\n",
    "    \n",
    "    cost, grad = opt(shots, params, 0, 0.01)\n",
    "    costs_y.append(cost)\n",
    "    \n",
    "    #params = [params[0] - grad*step, params[1] - grad*step]\n",
    "    \n",
    "    if grad <= 0:\n",
    "        params = [params[0], params[1] + 0.01]\n",
    "    else:\n",
    "        params = [params[0], params[1] - 0.01]\n",
    "\n",
    "param_y = params[1]\n",
    "print(param_y)\n",
    "    "
   ]
  },
  {
   "cell_type": "code",
   "execution_count": null,
   "metadata": {},
   "outputs": [],
   "source": [
    "plt.plot(range(iteration),costs_y)\n",
    "plt.xlabel('iteration count') \n",
    "plt.ylabel('cost') \n",
    "plt.show()"
   ]
  },
  {
   "cell_type": "code",
   "execution_count": null,
   "metadata": {},
   "outputs": [],
   "source": [
    "circuit = param_qc(params)\n",
    "circuit.draw()"
   ]
  },
  {
   "cell_type": "code",
   "execution_count": null,
   "metadata": {},
   "outputs": [],
   "source": [
    "simulator = Aer.get_backend('qasm_simulator')\n",
    "counts = execute(circuit, backend=simulator, noise_model=noise_model, shots=shots).result().get_counts(circuit)\n",
    "plot_histogram(counts)"
   ]
  },
  {
   "cell_type": "code",
   "execution_count": null,
   "metadata": {},
   "outputs": [],
   "source": []
  }
 ],
 "metadata": {
  "kernelspec": {
   "display_name": "Python 3",
   "language": "python",
   "name": "python3"
  },
  "language_info": {
   "codemirror_mode": {
    "name": "ipython",
    "version": 3
   },
   "file_extension": ".py",
   "mimetype": "text/x-python",
   "name": "python",
   "nbconvert_exporter": "python",
   "pygments_lexer": "ipython3",
   "version": "3.7.6"
  }
 },
 "nbformat": 4,
 "nbformat_minor": 4
}
