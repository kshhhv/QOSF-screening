{
 "cells": [
  {
   "cell_type": "code",
   "execution_count": 2,
   "metadata": {},
   "outputs": [
    {
     "name": "stdout",
     "output_type": "stream",
     "text": [
      "Collecting pennylane\n",
      "  Downloading PennyLane-0.11.0-py3-none-any.whl (311 kB)\n",
      "Collecting semantic-version==2.6\n",
      "  Downloading semantic_version-2.6.0-py3-none-any.whl (14 kB)\n",
      "Collecting toml\n",
      "  Downloading toml-0.10.1-py2.py3-none-any.whl (19 kB)\n",
      "Collecting appdirs\n",
      "  Using cached appdirs-1.4.4-py2.py3-none-any.whl (9.6 kB)\n",
      "Requirement already satisfied: networkx in c:\\users\\nikhi\\anaconda3\\lib\\site-packages (from pennylane) (2.4)\n",
      "Requirement already satisfied: numpy in c:\\users\\nikhi\\anaconda3\\lib\\site-packages (from pennylane) (1.18.5)\n",
      "Requirement already satisfied: scipy in c:\\users\\nikhi\\anaconda3\\lib\\site-packages (from pennylane) (1.4.1)\n",
      "Collecting autograd\n",
      "  Downloading autograd-1.3.tar.gz (38 kB)\n",
      "Requirement already satisfied: decorator>=4.3.0 in c:\\users\\nikhi\\anaconda3\\lib\\site-packages (from networkx->pennylane) (4.4.1)\n",
      "Requirement already satisfied: future>=0.15.2 in c:\\users\\nikhi\\anaconda3\\lib\\site-packages (from autograd->pennylane) (0.18.2)\n",
      "Building wheels for collected packages: autograd\n",
      "  Building wheel for autograd (setup.py): started\n",
      "  Building wheel for autograd (setup.py): finished with status 'done'\n",
      "  Created wheel for autograd: filename=autograd-1.3-py3-none-any.whl size=47994 sha256=f212dc34118fb9b304d76a353264a34931b3564864157a848b167439af796b21\n",
      "  Stored in directory: c:\\users\\nikhi\\appdata\\local\\pip\\cache\\wheels\\ef\\32\\31\\0e87227cd0ca1d99ad51fbe4b54c6fa02afccf7e483d045e04\n",
      "Successfully built autograd\n",
      "Installing collected packages: semantic-version, toml, appdirs, autograd, pennylane\n",
      "Successfully installed appdirs-1.4.4 autograd-1.3 pennylane-0.11.0 semantic-version-2.6.0 toml-0.10.1\n",
      "Note: you may need to restart the kernel to use updated packages.\n"
     ]
    }
   ],
   "source": [
    "pip install pennylane"
   ]
  },
  {
   "cell_type": "code",
   "execution_count": 1,
   "metadata": {},
   "outputs": [],
   "source": [
    "import pennylane as qml\n",
    "from qiskit import Aer\n"
   ]
  },
  {
   "cell_type": "code",
   "execution_count": 37,
   "metadata": {},
   "outputs": [],
   "source": [
    "from qiskit import *\n",
    "dev1 = qml.device(\"default.qubit\", wires=2)\n",
    "\n",
    "@qml.qnode(dev1)\n",
    "def circuit(params):\n",
    "    qml.RY(params[0], wires=0)\n",
    "    qml.RY(params[1], wires=1)\n",
    "    qml.CNOT(wires = [0,1])\n",
    "    return qml.expval(qml.PauliZ(1))"
   ]
  },
  {
   "cell_type": "code",
   "execution_count": 38,
   "metadata": {},
   "outputs": [
    {
     "name": "stdout",
     "output_type": "stream",
     "text": [
      "0.0\n"
     ]
    }
   ],
   "source": [
    "import numpy as np\n",
    "pi = np.pi\n",
    "print(circuit([pi/2, pi]))"
   ]
  },
  {
   "cell_type": "code",
   "execution_count": 39,
   "metadata": {},
   "outputs": [
    {
     "name": "stdout",
     "output_type": "stream",
     "text": [
      " 0: ──RY(1.571)──RY(3.142)──╭C──┤     \n",
      " 1: ────────────────────────╰X──┤ ⟨Z⟩ \n",
      "\n"
     ]
    }
   ],
   "source": [
    "print(circuit.draw())"
   ]
  }
 ],
 "metadata": {
  "kernelspec": {
   "display_name": "Python 3",
   "language": "python",
   "name": "python3"
  },
  "language_info": {
   "codemirror_mode": {
    "name": "ipython",
    "version": 3
   },
   "file_extension": ".py",
   "mimetype": "text/x-python",
   "name": "python",
   "nbconvert_exporter": "python",
   "pygments_lexer": "ipython3",
   "version": "3.7.6"
  }
 },
 "nbformat": 4,
 "nbformat_minor": 4
}
